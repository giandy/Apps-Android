{
  "nbformat": 4,
  "nbformat_minor": 0,
  "metadata": {
    "colab": {
      "name": "GiandyGarciaMorffi_IAA_PEC1.ipynb",
      "provenance": [],
      "collapsed_sections": [],
      "include_colab_link": true
    },
    "kernelspec": {
      "name": "python3",
      "display_name": "Python 3"
    }
  },
  "cells": [
    {
      "cell_type": "markdown",
      "metadata": {
        "id": "view-in-github",
        "colab_type": "text"
      },
      "source": [
        "<a href=\"https://colab.research.google.com/github/giandy/Apps-Android/blob/master/GiandyGarciaMorffi_IAA_PEC1.ipynb\" target=\"_parent\"><img src=\"https://colab.research.google.com/assets/colab-badge.svg\" alt=\"Open In Colab\"/></a>"
      ]
    },
    {
      "cell_type": "markdown",
      "metadata": {
        "id": "ZOana4Fo5ay9"
      },
      "source": [
        "# **PEC1: Recomendadores y agrupación:**\n",
        "\n",
        "Este archivo de cuaderno interactivo de jupyter le ayudará a comenzar con las operaciones básicas necesarias para resolver los ejercicios del PEC. Utilice este archivo para proporcionar una solución a los ejercicios (tanto el código como los comentarios escritos). Agregue tantas celdas de código y de texto como necesite para resolver todos los ejercicios. Asegúrate de que el archivo se puede ejecutar completamente antes de cargarlo para su entrega."
      ]
    },
    {
      "cell_type": "markdown",
      "metadata": {
        "id": "HIaaM2JA3KNd"
      },
      "source": [
        "### Instalar las librerías suprise en google colab:"
      ]
    },
    {
      "cell_type": "markdown",
      "metadata": {
        "id": "9lVTMCSexmui"
      },
      "source": [
        "La biblioteca Surprise* ofrece gran número de funciones y estructuras de datos\r\n",
        "adecuadas para la generación de sistemas recomendadores en Python. Además,\r\n",
        "permite cargar de forma muy sencilla algunos conjuntos de datos estándar\r\n",
        "y también ofrece funciones de evaluación de los resultados."
      ]
    },
    {
      "cell_type": "code",
      "metadata": {
        "id": "Wz8OWzk23Np4",
        "colab": {
          "base_uri": "https://localhost:8080/"
        },
        "outputId": "8b779c68-2c24-4be2-db40-a4c01c16a543"
      },
      "source": [
        "!pip install scikit-surprise"
      ],
      "execution_count": 1,
      "outputs": [
        {
          "output_type": "stream",
          "text": [
            "Requirement already satisfied: scikit-surprise in /usr/local/lib/python3.7/dist-packages (1.1.1)\n",
            "Requirement already satisfied: numpy>=1.11.2 in /usr/local/lib/python3.7/dist-packages (from scikit-surprise) (1.19.5)\n",
            "Requirement already satisfied: six>=1.10.0 in /usr/local/lib/python3.7/dist-packages (from scikit-surprise) (1.15.0)\n",
            "Requirement already satisfied: scipy>=1.0.0 in /usr/local/lib/python3.7/dist-packages (from scikit-surprise) (1.4.1)\n",
            "Requirement already satisfied: joblib>=0.11 in /usr/local/lib/python3.7/dist-packages (from scikit-surprise) (1.0.1)\n"
          ],
          "name": "stdout"
        }
      ]
    },
    {
      "cell_type": "markdown",
      "metadata": {
        "id": "mpZd1kWV5-fc"
      },
      "source": [
        "## **Ejercicio 1: Manipulación de datos con surprise and Pandas:**\n",
        "\n",
        "Este primer ejercicio es para familiarizarse con el conjunto de datos de Jester y cómo realizar la manipulación básica de datos usando Pandas.\n"
      ]
    },
    {
      "cell_type": "markdown",
      "metadata": {
        "id": "21oHTaYA3DxS"
      },
      "source": [
        "a) Cargar la base de datos Jester desde el surprise dataset"
      ]
    },
    {
      "cell_type": "code",
      "metadata": {
        "id": "-h7I2CKT2_Ie"
      },
      "source": [
        "from surprise import Dataset\n",
        "\n",
        "data = Dataset.load_builtin('jester')"
      ],
      "execution_count": 2,
      "outputs": []
    },
    {
      "cell_type": "markdown",
      "metadata": {
        "id": "JK6JF_hi3QnT"
      },
      "source": [
        "Convertir los datos a un Pandas dataframe"
      ]
    },
    {
      "cell_type": "markdown",
      "metadata": {
        "id": "2DcwGsMP1sty"
      },
      "source": [
        "Una de las mejores opciones para trabajar con datos tabulares en Python es usar la Python Data Analysis Library (alias Pandas). La biblioteca Pandas provee estructuras de datos, genera gráficos de alta calidad con matplotlib y se integra de buena forma con otras bibliotecas que usan arrays de NumPy "
      ]
    },
    {
      "cell_type": "code",
      "metadata": {
        "id": "vqywQibj3UZQ"
      },
      "source": [
        "import pandas as pd\n",
        "df = pd.DataFrame(data.__dict__['raw_ratings'], columns=['user_id', 'item_id', 'rating', 'timestamp'])"
      ],
      "execution_count": 3,
      "outputs": []
    },
    {
      "cell_type": "markdown",
      "metadata": {
        "id": "W8blmb-f3Y1k"
      },
      "source": [
        "Realizar inspección y manipulación básica de los datos:"
      ]
    },
    {
      "cell_type": "markdown",
      "metadata": {
        "id": "8Jc-xVkm3oZ9"
      },
      "source": [
        "Enumere las 10 primeras entradas del conjunto de datos:\n"
      ]
    },
    {
      "cell_type": "markdown",
      "metadata": {
        "id": "Xl1bvXzJ23Lx"
      },
      "source": [
        "Para esto usaremos pandas.DataFrame.head \r\n",
        "\r\n",
        "DataFrame.head( n = 10 )\r\n",
        "Devuelve las primeras n filas.\r\n",
        "\r\n",
        "Esta función devuelve las primeras n filas del objeto según la posición. Es útil para probar rápidamente si su objeto tiene el tipo correcto de datos. si no se le asigna un valor a n, este tomara el valor n=5 por defecto."
      ]
    },
    {
      "cell_type": "code",
      "metadata": {
        "id": "eZGcdB2X3b7F",
        "colab": {
          "base_uri": "https://localhost:8080/",
          "height": 359
        },
        "outputId": "ef88391f-a5e2-4f3f-c68b-0e6e0701b0b0"
      },
      "source": [
        "df.head(10) "
      ],
      "execution_count": 4,
      "outputs": [
        {
          "output_type": "execute_result",
          "data": {
            "text/html": [
              "<div>\n",
              "<style scoped>\n",
              "    .dataframe tbody tr th:only-of-type {\n",
              "        vertical-align: middle;\n",
              "    }\n",
              "\n",
              "    .dataframe tbody tr th {\n",
              "        vertical-align: top;\n",
              "    }\n",
              "\n",
              "    .dataframe thead th {\n",
              "        text-align: right;\n",
              "    }\n",
              "</style>\n",
              "<table border=\"1\" class=\"dataframe\">\n",
              "  <thead>\n",
              "    <tr style=\"text-align: right;\">\n",
              "      <th></th>\n",
              "      <th>user_id</th>\n",
              "      <th>item_id</th>\n",
              "      <th>rating</th>\n",
              "      <th>timestamp</th>\n",
              "    </tr>\n",
              "  </thead>\n",
              "  <tbody>\n",
              "    <tr>\n",
              "      <th>0</th>\n",
              "      <td>1</td>\n",
              "      <td>5</td>\n",
              "      <td>0.219</td>\n",
              "      <td>None</td>\n",
              "    </tr>\n",
              "    <tr>\n",
              "      <th>1</th>\n",
              "      <td>1</td>\n",
              "      <td>7</td>\n",
              "      <td>-9.281</td>\n",
              "      <td>None</td>\n",
              "    </tr>\n",
              "    <tr>\n",
              "      <th>2</th>\n",
              "      <td>1</td>\n",
              "      <td>8</td>\n",
              "      <td>-9.281</td>\n",
              "      <td>None</td>\n",
              "    </tr>\n",
              "    <tr>\n",
              "      <th>3</th>\n",
              "      <td>1</td>\n",
              "      <td>13</td>\n",
              "      <td>-6.781</td>\n",
              "      <td>None</td>\n",
              "    </tr>\n",
              "    <tr>\n",
              "      <th>4</th>\n",
              "      <td>1</td>\n",
              "      <td>15</td>\n",
              "      <td>0.875</td>\n",
              "      <td>None</td>\n",
              "    </tr>\n",
              "    <tr>\n",
              "      <th>5</th>\n",
              "      <td>1</td>\n",
              "      <td>16</td>\n",
              "      <td>-9.656</td>\n",
              "      <td>None</td>\n",
              "    </tr>\n",
              "    <tr>\n",
              "      <th>6</th>\n",
              "      <td>1</td>\n",
              "      <td>17</td>\n",
              "      <td>-9.031</td>\n",
              "      <td>None</td>\n",
              "    </tr>\n",
              "    <tr>\n",
              "      <th>7</th>\n",
              "      <td>1</td>\n",
              "      <td>18</td>\n",
              "      <td>-7.469</td>\n",
              "      <td>None</td>\n",
              "    </tr>\n",
              "    <tr>\n",
              "      <th>8</th>\n",
              "      <td>1</td>\n",
              "      <td>19</td>\n",
              "      <td>-8.719</td>\n",
              "      <td>None</td>\n",
              "    </tr>\n",
              "    <tr>\n",
              "      <th>9</th>\n",
              "      <td>1</td>\n",
              "      <td>20</td>\n",
              "      <td>-9.156</td>\n",
              "      <td>None</td>\n",
              "    </tr>\n",
              "  </tbody>\n",
              "</table>\n",
              "</div>"
            ],
            "text/plain": [
              "  user_id item_id  rating timestamp\n",
              "0       1       5   0.219      None\n",
              "1       1       7  -9.281      None\n",
              "2       1       8  -9.281      None\n",
              "3       1      13  -6.781      None\n",
              "4       1      15   0.875      None\n",
              "5       1      16  -9.656      None\n",
              "6       1      17  -9.031      None\n",
              "7       1      18  -7.469      None\n",
              "8       1      19  -8.719      None\n",
              "9       1      20  -9.156      None"
            ]
          },
          "metadata": {
            "tags": []
          },
          "execution_count": 4
        }
      ]
    },
    {
      "cell_type": "markdown",
      "metadata": {
        "id": "c_Sb17O93u_m"
      },
      "source": [
        "¿Cuántas entradas hay en el conjunto de datos?"
      ]
    },
    {
      "cell_type": "markdown",
      "metadata": {
        "id": "jdS0AsOjC9H5"
      },
      "source": [
        "La propiedad DataFrame.shape\r\n",
        "Devuelve una tupla que representa la dimensionalidad del DataFrame.\r\n",
        "Es un atributo de una serie/DataFrame que contiene el número de filas y columnas: (nrows, ncolumns). Aplicado a la columna [0] me devuelve el numero de entradas."
      ]
    },
    {
      "cell_type": "code",
      "metadata": {
        "id": "aM45Besw3iAC",
        "colab": {
          "base_uri": "https://localhost:8080/"
        },
        "outputId": "2b3c35dc-6723-4381-e196-127b76f0a420"
      },
      "source": [
        "entradas = df.shape[0] # 0: number of rows, 1: number of columns/variables\r\n",
        "print('En el conjunto existen', entradas, 'entradas')"
      ],
      "execution_count": 5,
      "outputs": [
        {
          "output_type": "stream",
          "text": [
            "En el conjunto existen 1761439 entradas\n"
          ],
          "name": "stdout"
        }
      ]
    },
    {
      "cell_type": "markdown",
      "metadata": {
        "id": "SlaII0nh4BMu"
      },
      "source": [
        "¿Cuántos usuarios y chistes hay en la base de datos?"
      ]
    },
    {
      "cell_type": "markdown",
      "metadata": {
        "id": "J_vPgjXWHKSt"
      },
      "source": [
        "La dataframe.nunique()función Pandas devuelve la serie con el número de observaciones distintas sobre el eje solicitado. Si establecemos el valor del eje en 0, entonces encuentra el número total de observaciones únicas sobre el eje del índice. Si establecemos el valor del eje en 1, entonces encontrará el número total de observaciones únicas sobre el eje de la columna. También proporciona la función de excluir los NaNvalores del recuento de números únicos."
      ]
    },
    {
      "cell_type": "code",
      "metadata": {
        "id": "T9iSf4hA38ze",
        "colab": {
          "base_uri": "https://localhost:8080/"
        },
        "outputId": "dabb4747-9d45-4d03-cd79-629cdc9bc86c"
      },
      "source": [
        "print('Number of users:')\n",
        "num_user = df[\"user_id\"].nunique() # number of users\n",
        "print('La base de datos cuenta con', num_user, 'usuarios')"
      ],
      "execution_count": 6,
      "outputs": [
        {
          "output_type": "stream",
          "text": [
            "Number of users:\n",
            "La base de datos cuenta con 59132 usuarios\n"
          ],
          "name": "stdout"
        }
      ]
    },
    {
      "cell_type": "code",
      "metadata": {
        "id": "-n4_M_NV4vI1",
        "colab": {
          "base_uri": "https://localhost:8080/"
        },
        "outputId": "9a816384-58ef-4bbe-a75c-764e2877e6bc"
      },
      "source": [
        "print('Number of items:')\n",
        "num_item = df[\"item_id\"].nunique() # number of items\n",
        "print('La base de datos cuenta con', num_item, 'chistes')"
      ],
      "execution_count": 7,
      "outputs": [
        {
          "output_type": "stream",
          "text": [
            "Number of items:\n",
            "La base de datos cuenta con 140 chistes\n"
          ],
          "name": "stdout"
        }
      ]
    },
    {
      "cell_type": "markdown",
      "metadata": {
        "id": "kpzaiu3P4PiI"
      },
      "source": [
        "¿Cuál es la calificación del usuario con user_id = 1 del chiste con item_id = 5?\n"
      ]
    },
    {
      "cell_type": "markdown",
      "metadata": {
        "id": "hjk1Lq8zLTgG"
      },
      "source": [
        "La propiedad DataFrame.loc\r\n",
        "Accede a un grupo de filas y columnas por etiqueta(s) o una matriz booleana.\r\n",
        "En este caso me devuelve donde se cumpla la condición."
      ]
    },
    {
      "cell_type": "code",
      "metadata": {
        "id": "QOkiR0pa4Iw_",
        "colab": {
          "base_uri": "https://localhost:8080/",
          "height": 80
        },
        "outputId": "058e1adb-88d3-40f4-9cc0-797f1a71253d"
      },
      "source": [
        "df.loc[(df[\"user_id\"]=='1') & (df[\"item_id\"]=='5')]"
      ],
      "execution_count": 8,
      "outputs": [
        {
          "output_type": "execute_result",
          "data": {
            "text/html": [
              "<div>\n",
              "<style scoped>\n",
              "    .dataframe tbody tr th:only-of-type {\n",
              "        vertical-align: middle;\n",
              "    }\n",
              "\n",
              "    .dataframe tbody tr th {\n",
              "        vertical-align: top;\n",
              "    }\n",
              "\n",
              "    .dataframe thead th {\n",
              "        text-align: right;\n",
              "    }\n",
              "</style>\n",
              "<table border=\"1\" class=\"dataframe\">\n",
              "  <thead>\n",
              "    <tr style=\"text-align: right;\">\n",
              "      <th></th>\n",
              "      <th>user_id</th>\n",
              "      <th>item_id</th>\n",
              "      <th>rating</th>\n",
              "      <th>timestamp</th>\n",
              "    </tr>\n",
              "  </thead>\n",
              "  <tbody>\n",
              "    <tr>\n",
              "      <th>0</th>\n",
              "      <td>1</td>\n",
              "      <td>5</td>\n",
              "      <td>0.219</td>\n",
              "      <td>None</td>\n",
              "    </tr>\n",
              "  </tbody>\n",
              "</table>\n",
              "</div>"
            ],
            "text/plain": [
              "  user_id item_id  rating timestamp\n",
              "0       1       5   0.219      None"
            ]
          },
          "metadata": {
            "tags": []
          },
          "execution_count": 8
        }
      ]
    },
    {
      "cell_type": "markdown",
      "metadata": {
        "id": "DMRT_Nn7KHIA"
      },
      "source": [
        "El usuario con user_id=1 le ha asignado al chiste con item_id=5 una calificación de 0.219."
      ]
    },
    {
      "cell_type": "markdown",
      "metadata": {
        "id": "nLF40LAwdvzt"
      },
      "source": [
        "Responda las siguientes preguntas:\r\n",
        "- ¿Cuál es la valoración media de todos los chistes de la base de datos?"
      ]
    },
    {
      "cell_type": "markdown",
      "metadata": {
        "id": "putH2B4hMUAx"
      },
      "source": [
        "DataFrame.mean\r\n",
        "\r\n",
        "Devuelve la media de los valores sobre el eje solicitado."
      ]
    },
    {
      "cell_type": "code",
      "metadata": {
        "colab": {
          "base_uri": "https://localhost:8080/"
        },
        "id": "Nz-MneG4-WZG",
        "outputId": "9417d63b-e396-4415-e1dd-e0003c36513b"
      },
      "source": [
        "media = df['rating'].mean()\r\n",
        "print('La valoración media de todos los chistes es', media)\r\n"
      ],
      "execution_count": 9,
      "outputs": [
        {
          "output_type": "stream",
          "text": [
            "La valoración media de todos los chistes es 1.6186024017864769\n"
          ],
          "name": "stdout"
        }
      ]
    },
    {
      "cell_type": "markdown",
      "metadata": {
        "id": "_Q_gQlpDdzb8"
      },
      "source": [
        "- ¿Cuántos chistes ha calificado el usuario con user_id = 10?"
      ]
    },
    {
      "cell_type": "code",
      "metadata": {
        "id": "yT37o3lXd27U",
        "colab": {
          "base_uri": "https://localhost:8080/"
        },
        "outputId": "5bc0e2a6-afae-424c-c548-6b1bf493cf42"
      },
      "source": [
        "pyvalorados = len(df[(df[\"user_id\"]=='10')])\r\n",
        "print('El usuario 10 ha calificado',pyvalorados,'chistes')"
      ],
      "execution_count": 10,
      "outputs": [
        {
          "output_type": "stream",
          "text": [
            "El usuario 10 ha calificado 104 chistes\n"
          ],
          "name": "stdout"
        }
      ]
    },
    {
      "cell_type": "markdown",
      "metadata": {
        "id": "2Myec4DbN_y9"
      },
      "source": [
        "Otra forma puede ser: obtengo una lista de item_id donde se cumpla que el user_id=10 y le aplico nunique() para obtener la cantidad de chistes calificados"
      ]
    },
    {
      "cell_type": "code",
      "metadata": {
        "colab": {
          "base_uri": "https://localhost:8080/"
        },
        "id": "RgXPavKE97hf",
        "outputId": "f88d344b-f5ee-41ba-a224-92e241e7393c"
      },
      "source": [
        "valorados = df[\"item_id\"].loc[(df[\"user_id\"])=='10'].nunique()\r\n",
        "print('El usuario 10 ha calificado',valorados,'chistes')"
      ],
      "execution_count": 11,
      "outputs": [
        {
          "output_type": "stream",
          "text": [
            "El usuario 10 ha calificado 104 chistes\n"
          ],
          "name": "stdout"
        }
      ]
    },
    {
      "cell_type": "markdown",
      "metadata": {
        "id": "tgoGBpkVd4KN"
      },
      "source": [
        "Utilice las funciones de Pandas groupby y sort_values para enumerar los\r\n",
        "chistes de acuerdo con su clasificación promedio por usuarios. ¿Cuál es el\r\n",
        "chiste mejor valorado de la base de datos?\r\n",
        "\r\n",
        "https://pandas.pydata.org/pandasdocs/stable/reference/api/pandas.DataFrame.groupby.html\r\n",
        "\r\n",
        "https://pandas.pydata.org/pandasdocs/stable/reference/api/pandas.DataFrame.sort_values.html"
      ]
    },
    {
      "cell_type": "code",
      "metadata": {
        "id": "Ihh5MdiEd7LE",
        "colab": {
          "base_uri": "https://localhost:8080/"
        },
        "outputId": "ef701bde-64a6-4bdd-fffa-08c66251609a"
      },
      "source": [
        "df_grup_sorf = df.groupby([\"item_id\"],sort=False).mean().sort_values(by=[\"rating\"],ascending=False)\r\n",
        "print(df_grup_sorf)"
      ],
      "execution_count": 12,
      "outputs": [
        {
          "output_type": "stream",
          "text": [
            "           rating\n",
            "item_id          \n",
            "53       3.714381\n",
            "105      3.711223\n",
            "89       3.606506\n",
            "129      3.583496\n",
            "35       3.560305\n",
            "...           ...\n",
            "16      -1.587044\n",
            "5       -1.756331\n",
            "7       -1.809230\n",
            "124     -2.163482\n",
            "141     -2.749574\n",
            "\n",
            "[140 rows x 1 columns]\n"
          ],
          "name": "stdout"
        }
      ]
    },
    {
      "cell_type": "code",
      "metadata": {
        "colab": {
          "base_uri": "https://localhost:8080/",
          "height": 111
        },
        "id": "xy-dz70SFVIs",
        "outputId": "9bea9ef4-f858-429a-fe60-7b9be570c948"
      },
      "source": [
        "df_grup_sorf.head(1)"
      ],
      "execution_count": 13,
      "outputs": [
        {
          "output_type": "execute_result",
          "data": {
            "text/html": [
              "<div>\n",
              "<style scoped>\n",
              "    .dataframe tbody tr th:only-of-type {\n",
              "        vertical-align: middle;\n",
              "    }\n",
              "\n",
              "    .dataframe tbody tr th {\n",
              "        vertical-align: top;\n",
              "    }\n",
              "\n",
              "    .dataframe thead th {\n",
              "        text-align: right;\n",
              "    }\n",
              "</style>\n",
              "<table border=\"1\" class=\"dataframe\">\n",
              "  <thead>\n",
              "    <tr style=\"text-align: right;\">\n",
              "      <th></th>\n",
              "      <th>rating</th>\n",
              "    </tr>\n",
              "    <tr>\n",
              "      <th>item_id</th>\n",
              "      <th></th>\n",
              "    </tr>\n",
              "  </thead>\n",
              "  <tbody>\n",
              "    <tr>\n",
              "      <th>53</th>\n",
              "      <td>3.714381</td>\n",
              "    </tr>\n",
              "  </tbody>\n",
              "</table>\n",
              "</div>"
            ],
            "text/plain": [
              "           rating\n",
              "item_id          \n",
              "53       3.714381"
            ]
          },
          "metadata": {
            "tags": []
          },
          "execution_count": 13
        }
      ]
    },
    {
      "cell_type": "markdown",
      "metadata": {
        "id": "jGY5MK5mPntx"
      },
      "source": [
        "El chiste mejor valorado en la base de datos es el 53."
      ]
    },
    {
      "cell_type": "markdown",
      "metadata": {
        "id": "JO79Ovxs4hy0"
      },
      "source": [
        "b) Filtrar el conjunto de datos:\n",
        "\n",
        "Filtre la base de datos manteniendo solo los elementos que hayan calificado al menos min_item_ratings usuarios y usuarios que hayan calificado al menos los elementos min_user_ratings:"
      ]
    },
    {
      "cell_type": "code",
      "metadata": {
        "id": "XnE8GHL_4X3Q",
        "colab": {
          "base_uri": "https://localhost:8080/"
        },
        "outputId": "172779b4-6c20-4ab1-a7b5-5f2d5f72109f"
      },
      "source": [
        "min_item_ratings = 200\n",
        "filter_items = df['item_id'].value_counts() > min_item_ratings\n",
        "filter_items = filter_items[filter_items].index.tolist()\n",
        "\n",
        "min_user_ratings = 130\n",
        "filter_users = df['user_id'].value_counts() > min_user_ratings\n",
        "filter_users = filter_users[filter_users].index.tolist()\n",
        "\n",
        "df_small = df[(df['item_id'].isin(filter_items)) & (df['user_id'].isin(filter_users))]\n",
        "print('The original data frame shape:\\t{}'.format(df.shape))\n",
        "print('The new data frame shape:\\t{}'.format(df_small.shape))"
      ],
      "execution_count": 14,
      "outputs": [
        {
          "output_type": "stream",
          "text": [
            "The original data frame shape:\t(1761439, 4)\n",
            "The new data frame shape:\t(1325, 4)\n"
          ],
          "name": "stdout"
        }
      ]
    },
    {
      "cell_type": "markdown",
      "metadata": {
        "id": "41Xp8Gsz59w9"
      },
      "source": [
        "Convierta el marco de datos de nuevo a una variable surprise utilizando las funciones reader y load_from_df:\n",
        "\n",
        "https://surprise.readthedocs.io/en/stable/getting_started.html#use-a-custom-dataset"
      ]
    },
    {
      "cell_type": "code",
      "metadata": {
        "id": "oTSdIzL26Esu"
      },
      "source": [
        "from surprise import Reader \n",
        "reader = Reader(rating_scale=(-10, 10))\n",
        "data_small = Dataset.load_from_df(df_small[['user_id', 'item_id', 'rating']], reader)"
      ],
      "execution_count": 15,
      "outputs": []
    },
    {
      "cell_type": "markdown",
      "metadata": {
        "id": "K3WJuunz6cs9"
      },
      "source": [
        "Responde las siguientes preguntas:\n",
        "\n",
        "- ¿Cuántos usuarios y elementos hay en el conjunto de datos reducido?\n"
      ]
    },
    {
      "cell_type": "code",
      "metadata": {
        "id": "6mI3GQ5Q6mZv",
        "colab": {
          "base_uri": "https://localhost:8080/"
        },
        "outputId": "6b32e4cc-610c-43f4-d51d-1a417bea5c7b"
      },
      "source": [
        "print('Numero de usuarios en conjunto reducido:')\r\n",
        "user_small = df_small['user_id'].nunique() # number of users\r\n",
        "print('El número de usuarios en el conjunto reducido es de', user_small,'usuarios')\r\n"
      ],
      "execution_count": 16,
      "outputs": [
        {
          "output_type": "stream",
          "text": [
            "Numero de usuarios en conjunto reducido:\n",
            "El número de usuarios en el conjunto reducido es de 10 usuarios\n"
          ],
          "name": "stdout"
        }
      ]
    },
    {
      "cell_type": "code",
      "metadata": {
        "colab": {
          "base_uri": "https://localhost:8080/"
        },
        "id": "-M5ZXg6N7uKT",
        "outputId": "947b55ae-53f1-4ce5-dad8-f06eac1e98d9"
      },
      "source": [
        "print('Numero de elementos en conjunto reducido:')\r\n",
        "elem_small = df_small['item_id'].nunique() # number de elemens\r\n",
        "print('El número de elementos en el conjunto reducido es de', elem_small,'elementos')"
      ],
      "execution_count": 17,
      "outputs": [
        {
          "output_type": "stream",
          "text": [
            "Numero de elementos en conjunto reducido:\n",
            "El número de elementos en el conjunto reducido es de 133 elementos\n"
          ],
          "name": "stdout"
        }
      ]
    },
    {
      "cell_type": "markdown",
      "metadata": {
        "id": "N_s4-9ZS6mwJ"
      },
      "source": [
        "- Proporcione una breve descripción de las principales características del conjunto de datos.\n",
        "\n"
      ]
    },
    {
      "cell_type": "code",
      "metadata": {
        "id": "snFnkYLy6F4u",
        "colab": {
          "base_uri": "https://localhost:8080/",
          "height": 297
        },
        "outputId": "fe1de041-5510-4b60-e85d-b04bfb0bb618"
      },
      "source": [
        "df_small.describe()"
      ],
      "execution_count": 18,
      "outputs": [
        {
          "output_type": "execute_result",
          "data": {
            "text/html": [
              "<div>\n",
              "<style scoped>\n",
              "    .dataframe tbody tr th:only-of-type {\n",
              "        vertical-align: middle;\n",
              "    }\n",
              "\n",
              "    .dataframe tbody tr th {\n",
              "        vertical-align: top;\n",
              "    }\n",
              "\n",
              "    .dataframe thead th {\n",
              "        text-align: right;\n",
              "    }\n",
              "</style>\n",
              "<table border=\"1\" class=\"dataframe\">\n",
              "  <thead>\n",
              "    <tr style=\"text-align: right;\">\n",
              "      <th></th>\n",
              "      <th>rating</th>\n",
              "    </tr>\n",
              "  </thead>\n",
              "  <tbody>\n",
              "    <tr>\n",
              "      <th>count</th>\n",
              "      <td>1325.000000</td>\n",
              "    </tr>\n",
              "    <tr>\n",
              "      <th>mean</th>\n",
              "      <td>2.346844</td>\n",
              "    </tr>\n",
              "    <tr>\n",
              "      <th>std</th>\n",
              "      <td>5.032869</td>\n",
              "    </tr>\n",
              "    <tr>\n",
              "      <th>min</th>\n",
              "      <td>-9.844000</td>\n",
              "    </tr>\n",
              "    <tr>\n",
              "      <th>25%</th>\n",
              "      <td>-1.438000</td>\n",
              "    </tr>\n",
              "    <tr>\n",
              "      <th>50%</th>\n",
              "      <td>3.500000</td>\n",
              "    </tr>\n",
              "    <tr>\n",
              "      <th>75%</th>\n",
              "      <td>6.281000</td>\n",
              "    </tr>\n",
              "    <tr>\n",
              "      <th>max</th>\n",
              "      <td>9.969000</td>\n",
              "    </tr>\n",
              "  </tbody>\n",
              "</table>\n",
              "</div>"
            ],
            "text/plain": [
              "            rating\n",
              "count  1325.000000\n",
              "mean      2.346844\n",
              "std       5.032869\n",
              "min      -9.844000\n",
              "25%      -1.438000\n",
              "50%       3.500000\n",
              "75%       6.281000\n",
              "max       9.969000"
            ]
          },
          "metadata": {
            "tags": []
          },
          "execution_count": 18
        }
      ]
    },
    {
      "cell_type": "markdown",
      "metadata": {
        "id": "PJ0f2w5xp75T"
      },
      "source": [
        "Si aplicamos la función describe() de la librería pandas podemos ver que el valor mínimo de valoraciones es -9.844 y el máximo 9.969 con un total de 1325 valoraciones, una media de 2.346844, desviaciones de -1.438, 3.5 y 6.281 con una desviación estándar de 5.032869."
      ]
    },
    {
      "cell_type": "markdown",
      "metadata": {
        "id": "NI294Lb96xTK"
      },
      "source": [
        "c) Proporcione una representación gráfica de la distribución del número de usuarios con un determinado número de valoraciones. ¿Cuáles son las principales conclusiones que se pueden sacar de este gráfico ?\n"
      ]
    },
    {
      "cell_type": "code",
      "metadata": {
        "id": "2D4UT5GU82zE",
        "colab": {
          "base_uri": "https://localhost:8080/",
          "height": 295
        },
        "outputId": "daf475eb-afce-4b78-c87f-76265a795050"
      },
      "source": [
        "import numpy as np\r\n",
        "from matplotlib import pyplot as plt\r\n",
        "\r\n",
        "xy = df['user_id'].value_counts() #Valoraciones por usuarios\r\n",
        "\r\n",
        "plt.xlabel(\"Valoraciones\")\r\n",
        "plt.ylabel(\"Usuarios\")\r\n",
        "plt.title(\"Distrubución total\")\r\n",
        "plt.hist(xy)\r\n",
        "plt.show()"
      ],
      "execution_count": 19,
      "outputs": [
        {
          "output_type": "display_data",
          "data": {
            "image/png": "[encoded data removed]",
            "text/plain": [
              "<Figure size 432x288 with 1 Axes>"
            ]
          },
          "metadata": {
            "tags": [],
            "needs_background": "light"
          }
        }
      ]
    },
    {
      "cell_type": "code",
      "metadata": {
        "colab": {
          "base_uri": "https://localhost:8080/",
          "height": 295
        },
        "id": "Pnsh2oOwtBWe",
        "outputId": "85c11a9d-dffa-46fb-ed5b-caf6a768868b"
      },
      "source": [
        "xy_small = df_small['user_id'].value_counts() #Valoraciones por usuarios df reducido\r\n",
        "\r\n",
        "plt.xlabel(\"Valoraciones\")\r\n",
        "plt.ylabel(\"Usuarios\")\r\n",
        "plt.title(\"Distrubución grupo reducido\")\r\n",
        "plt.hist(xy_small)\r\n",
        "plt.show()"
      ],
      "execution_count": 20,
      "outputs": [
        {
          "output_type": "display_data",
          "data": {
            "image/png": "[encoded data removed]",
            "text/plain": [
              "<Figure size 432x288 with 1 Axes>"
            ]
          },
          "metadata": {
            "tags": [],
            "needs_background": "light"
          }
        }
      ]
    },
    {
      "cell_type": "markdown",
      "metadata": {
        "id": "c8tUFFPE_xRp"
      },
      "source": [
        "En Ambas gráficas podemos ver en el eje X (número de valoraciones) y en el eje Y (número de usuarios) que han realizado valoraciones. En el primer gráfico, en base a todos los datos podemos observar aspectos como que la mayoría han hecho entre 0 y 10 valoraciones, como el siguiente grupo de 11 a 20 comienza a reducirse de forma continuada hasta que de 130 a 140 vuelve a subir.\r\n",
        "\r\n",
        "En el grupo reducido es precisamente el grupo de 132.75 a 133 el que más valoraciones realiza con 7 usuarios en total."
      ]
    },
    {
      "cell_type": "markdown",
      "metadata": {
        "id": "pMRtA2YoGIju"
      },
      "source": [
        ""
      ]
    },
    {
      "cell_type": "markdown",
      "metadata": {
        "id": "XKXoXUaY7CqK"
      },
      "source": [
        "## **Ejercicio 2: Diferentes formas de diseñar un sistema de recomendación**\n",
        "En este ejercicio estamos explorando diferentes formas de diseñar / entrenar un sistema de recomendación. A menos que se indique lo contrario, este ejercicio se realizará con el conjunto de datos reducido obtenido en el ejercicio anterior.\n"
      ]
    },
    {
      "cell_type": "code",
      "metadata": {
        "id": "Yufa_tCs6yrW"
      },
      "source": [
        ""
      ],
      "execution_count": 20,
      "outputs": []
    },
    {
      "cell_type": "markdown",
      "metadata": {
        "id": "ywLVjyYL7Vk_"
      },
      "source": [
        "\n",
        "a) Ajuste un recomendador de descomposición de valores singulares utilizando como datos de entrenamiento todo el conjunto de datos reducido. ¿Cuál es la tasa prevista de user_id = 46 del chiste con item_id = 44 ?. ¿Cuál es la discrepancia entre la qualificació prevista y la real? Evalúe el rendimiento de este enfoque utilizando RMSE, MAE y MSE como métricas de precisión.\n"
      ]
    },
    {
      "cell_type": "code",
      "metadata": {
        "id": "JQViGWVF7XUI",
        "colab": {
          "base_uri": "https://localhost:8080/"
        },
        "outputId": "d6bdeae5-9b51-4269-cba5-7ebd6c3fd73e"
      },
      "source": [
        "from surprise import SVD\r\n",
        "from surprise import accuracy\r\n",
        "from surprise.model_selection import train_test_split\r\n",
        "\r\n",
        "entrenamiento = data_small.build_full_trainset()\r\n",
        "metodo = SVD()\r\n",
        "\r\n",
        "usuario = '46'\r\n",
        "elemento = '44'\r\n",
        "\r\n",
        "metodo.fit(entrenamiento)\r\n",
        "prediccion = metodo.predict(usuario, elemento)\r\n",
        "print(prediccion)\r\n",
        "\r\n",
        "print('El valor estimado de el usuario',prediccion.uid, 'con el chiste',prediccion.iid, 'es de', prediccion.est )\r\n"
      ],
      "execution_count": 21,
      "outputs": [
        {
          "output_type": "stream",
          "text": [
            "user: 46         item: 44         r_ui = None   est = 6.85   {'was_impossible': False}\n",
            "El valor estimado de el usuario 46 con el chiste 44 es de 6.849049728144569\n"
          ],
          "name": "stdout"
        }
      ]
    },
    {
      "cell_type": "code",
      "metadata": {
        "colab": {
          "base_uri": "https://localhost:8080/"
        },
        "id": "NQezJkTsCWps",
        "outputId": "3ce337b7-752c-4ce7-c815-e81db6a4d9ba"
      },
      "source": [
        "from surprise.model_selection import cross_validate\r\n",
        "result = cross_validate(metodo, data_small, measures=['RMSE', 'MAE', 'MSE'], cv=5, verbose=True)\r\n",
        "\r\n"
      ],
      "execution_count": 22,
      "outputs": [
        {
          "output_type": "stream",
          "text": [
            "Evaluating RMSE, MAE, MSE of algorithm SVD on 5 split(s).\n",
            "\n",
            "                  Fold 1  Fold 2  Fold 3  Fold 4  Fold 5  Mean    Std     \n",
            "RMSE (testset)    4.8414  4.4820  4.0608  4.1766  4.4390  4.4000  0.2713  \n",
            "MAE (testset)     3.7796  3.4929  3.2830  3.3214  3.4664  3.4687  0.1752  \n",
            "MSE (testset)     23.4396 20.0881 16.4899 17.4442 19.7050 19.4334 2.4155  \n",
            "Fit time          0.06    0.06    0.06    0.06    0.07    0.06    0.00    \n",
            "Test time         0.00    0.00    0.00    0.00    0.00    0.00    0.00    \n"
          ],
          "name": "stdout"
        }
      ]
    },
    {
      "cell_type": "markdown",
      "metadata": {
        "id": "hbdYrfyT7Xio"
      },
      "source": [
        "b) Ajuste el mismo recomendador pero ahora dividiendo los datos en subconjuntos de entrenamiento y prueba en tres proporciones diferentes (entrenamiento / prueba): 90/10, 75/25 y 10/90. Compare el RMSE, MAE y MSE promedio cuando utilice diferentes fracciones para los subconjuntos de entrenamiento y prueba. ¿Qué proporción produce mejores resultados de predicción? Justifica tu respuesta.\n"
      ]
    },
    {
      "cell_type": "code",
      "metadata": {
        "id": "N8Yz1zl37Zdg",
        "colab": {
          "base_uri": "https://localhost:8080/"
        },
        "outputId": "4ac6842f-a013-4011-fef4-ed90a09a561b"
      },
      "source": [
        "from surprise import SVD\r\n",
        "from surprise import Dataset\r\n",
        "from surprise import accuracy\r\n",
        "from surprise.model_selection import train_test_split\r\n",
        "\r\n",
        "print('Caso 90/10: Subconjunto de entrenamiento y prueba (entrenamiento 90%/ prueba 10%):\\n') # subconjunto de entrenamiento y prueba (entrenamiento 90%/ prueba 10%)\r\n",
        "\r\n",
        "entrenamiento, testing = train_test_split(data_small, test_size=0.1)\r\n",
        "\r\n",
        "modelo9010 = SVD()\r\n",
        "modelo9010.fit(entrenamiento)\r\n",
        "prediccion9010 = modelo9010.test(testing)\r\n",
        "\r\n",
        "pred_rmse = accuracy.rmse(prediccion9010)\r\n",
        "pred_mae = accuracy.mae(prediccion9010)\r\n",
        "pred_mse = accuracy.mse(prediccion9010)\r\n",
        "\r\n",
        "#resultado = pred_rmse/pred_mae\r\n",
        "#print('RMSE/MAE', resultado)\r\n",
        "print()\r\n",
        "print('Caso 75/25: Subconjunto de entrenamiento y prueba (entrenamiento 75%/ prueba 25%):\\n') # subconjunto de entrenamiento y prueba (entrenamiento 75%/ prueba 25%)\r\n",
        "\r\n",
        "entrenamiento, testing = train_test_split(data_small, test_size=0.25)\r\n",
        "\r\n",
        "modelo9010 = SVD()\r\n",
        "modelo9010.fit(entrenamiento)\r\n",
        "prediccion9010 = modelo9010.test(testing)\r\n",
        "\r\n",
        "pred_rmse = accuracy.rmse(prediccion9010)\r\n",
        "pred_mae = accuracy.mae(prediccion9010)\r\n",
        "pred_mse = accuracy.mse(prediccion9010)\r\n",
        "\r\n",
        "#resultado = pred_rmse/pred_mae\r\n",
        "#print('RMSE/MAE', resultado)\r\n",
        "print()\r\n",
        "print('Caso 10/90: Subconjunto de entrenamiento y prueba (entrenamiento 10%/ prueba 90%):\\n') # subconjunto de entrenamiento y prueba (entrenamiento 10%/ prueba 90%)\r\n",
        "\r\n",
        "entrenamiento, testing = train_test_split(data_small, test_size=0.9)\r\n",
        "\r\n",
        "modelo9010 = SVD()\r\n",
        "modelo9010.fit(entrenamiento)\r\n",
        "prediccion9010 = modelo9010.test(testing)\r\n",
        "\r\n",
        "pred_rmse = accuracy.rmse(prediccion9010)\r\n",
        "pred_mae = accuracy.mae(prediccion9010)\r\n",
        "pred_mse = accuracy.mse(prediccion9010)\r\n",
        "\r\n",
        "#resultado = pred_rmse/pred_mae\r\n",
        "#print('RMSE/MAE', resultado)"
      ],
      "execution_count": 23,
      "outputs": [
        {
          "output_type": "stream",
          "text": [
            "Caso 90/10: Subconjunto de entrenamiento y prueba (entrenamiento 90%/ prueba 10%):\n",
            "\n",
            "RMSE: 3.7434\n",
            "MAE:  3.0580\n",
            "MSE: 14.0129\n",
            "\n",
            "Caso 75/25: Subconjunto de entrenamiento y prueba (entrenamiento 75%/ prueba 25%):\n",
            "\n",
            "RMSE: 4.2220\n",
            "MAE:  3.2362\n",
            "MSE: 17.8255\n",
            "\n",
            "Caso 10/90: Subconjunto de entrenamiento y prueba (entrenamiento 10%/ prueba 90%):\n",
            "\n",
            "RMSE: 4.7336\n",
            "MAE:  3.7816\n",
            "MSE: 22.4069\n"
          ],
          "name": "stdout"
        }
      ]
    },
    {
      "cell_type": "markdown",
      "metadata": {
        "id": "Dvai9-8MFYtq"
      },
      "source": [
        "Como podemos observar el mejor caso es el caso 90/10.\r\n",
        "En este caso se utilizan tres medidas de calidad para evaluar los resultados.  RMSE, MAE y MSE. Lógicamente, en todos los casos se trata de medidas de error, lo que quiere decir que nuestro objetivo será reducirlas al mínimo; un recomendador con menor RMSE/MAE/MSE es mejor que otro con mayores valores de error."
      ]
    },
    {
      "cell_type": "markdown",
      "metadata": {
        "id": "LDlHHyyM7Zm9"
      },
      "source": [
        "c) Ajuste y evalúe ahora el recomendador de SVD utilizando un procedimiento de validación cruzada de 5 veces (cv = 5). Compare los resultados medios con el rendimiento obtenido en los apartados anteriores. Explique las diferencias de forma razonada.\n"
      ]
    },
    {
      "cell_type": "code",
      "metadata": {
        "id": "D1YTGAp97bJc",
        "colab": {
          "base_uri": "https://localhost:8080/"
        },
        "outputId": "43bf7684-d04d-4b13-cd76-4ae6d98f91db"
      },
      "source": [
        "from surprise.model_selection import cross_validate\r\n",
        "from surprise import SVD\r\n",
        "\r\n",
        "recomendador=SVD()\r\n",
        "\r\n",
        "results = cross_validate(recomendador, data_small, measures=['RMSE', 'MAE', 'MSE'], cv=5, verbose=True)"
      ],
      "execution_count": 24,
      "outputs": [
        {
          "output_type": "stream",
          "text": [
            "Evaluating RMSE, MAE, MSE of algorithm SVD on 5 split(s).\n",
            "\n",
            "                  Fold 1  Fold 2  Fold 3  Fold 4  Fold 5  Mean    Std     \n",
            "RMSE (testset)    4.4849  4.4321  4.3547  4.5864  4.5988  4.4914  0.0925  \n",
            "MAE (testset)     3.6172  3.5042  3.5199  3.6597  3.4985  3.5599  0.0659  \n",
            "MSE (testset)     20.1145 19.6431 18.9635 21.0349 21.1491 20.1810 0.8298  \n",
            "Fit time          0.06    0.07    0.06    0.06    0.06    0.06    0.00    \n",
            "Test time         0.00    0.00    0.00    0.00    0.00    0.00    0.00    \n"
          ],
          "name": "stdout"
        }
      ]
    },
    {
      "cell_type": "markdown",
      "metadata": {
        "id": "kj1SWBojB8Ip"
      },
      "source": [
        "Podemos ver que los resultados tras la validación cruzada de 5 veces presenta una media, tanto para MAE, RMSE y MSE valores muy cercanos a la porción 75/25 del apartado b), resultado obtenido de varias iteraciones"
      ]
    },
    {
      "cell_type": "markdown",
      "metadata": {
        "id": "ERCyqH-C7bfW"
      },
      "source": [
        "d) Use una validación cruzada de 5 veces para comparar el desempeño de las versiones sesgadas e imparciales del recomendador de SVD descrito en https://surprise.readthedocs.io/en/stable/matrix_factorization.html#surprise.prediction_algorithms.matrix_factorization. SVD. ¿Qué método proporciona una mejor precisión de predicción? ¿Por qué?\n"
      ]
    },
    {
      "cell_type": "code",
      "metadata": {
        "id": "VDlFjFOp7c2Z",
        "colab": {
          "base_uri": "https://localhost:8080/"
        },
        "outputId": "0a34094e-7161-4338-f7d6-769d67d1b16b"
      },
      "source": [
        "from surprise.model_selection import cross_validate\r\n",
        "from surprise import SVD\r\n",
        "\r\n",
        "recomendador=SVD(biased = False)\r\n",
        "\r\n",
        "results = cross_validate(recomendador, data_small, measures=['RMSE', 'MAE', 'MSE'], cv=5, verbose=True)"
      ],
      "execution_count": 25,
      "outputs": [
        {
          "output_type": "stream",
          "text": [
            "Evaluating RMSE, MAE, MSE of algorithm SVD on 5 split(s).\n",
            "\n",
            "                  Fold 1  Fold 2  Fold 3  Fold 4  Fold 5  Mean    Std     \n",
            "RMSE (testset)    4.4783  4.7517  4.6018  4.6767  4.7443  4.6506  0.1017  \n",
            "MAE (testset)     3.7005  3.8229  3.7277  3.8570  3.9716  3.8159  0.0970  \n",
            "MSE (testset)     20.0553 22.5790 21.1764 21.8714 22.5080 21.6380 0.9397  \n",
            "Fit time          0.06    0.06    0.06    0.06    0.06    0.06    0.00    \n",
            "Test time         0.00    0.00    0.00    0.00    0.00    0.00    0.00    \n"
          ],
          "name": "stdout"
        }
      ]
    },
    {
      "cell_type": "markdown",
      "metadata": {
        "id": "dFOk-8QZGuwg"
      },
      "source": [
        "Vemos que es en la sesgada donde el resultado es mejor. Tiene sentido desde la lógica de que la imparcial trabaja con todos los valores, mientras que la sesgada, calcula el promedio de cada sesgo y compensa las situaciones donde hay pocas valoraciones, ganando en velocidad pero restando precisión y dando un resultado resultado más uniforme."
      ]
    },
    {
      "cell_type": "markdown",
      "metadata": {
        "id": "F1t0U-O-7dJo"
      },
      "source": [
        "e) Confirme la comparación entre los algoritmos SVD sesgados e insesgados realizando una validación cruzada de búsqueda de cuadrícula https://surprise.readthedocs.io/en/stable/getting_started.html#tune-algorithm-parameters-with-gridsearchcv"
      ]
    },
    {
      "cell_type": "code",
      "metadata": {
        "id": "0XnpIrlSGkMG",
        "colab": {
          "base_uri": "https://localhost:8080/"
        },
        "outputId": "53ed92c8-c2f6-4fb6-e6b3-d99182d9d615"
      },
      "source": [
        "from surprise import SVD\r\n",
        "from surprise.model_selection import GridSearchCV\r\n",
        "\r\n",
        "#Para el número de iteración del procedimiento SGD, el término de regularización para todos los parámetros y la tasa de aprendizaje para todos los parámetros. \r\n",
        "#Tomaré valores donde incluire los valores por defecto de los ejemplos anteriores.\r\n",
        "\r\n",
        "param_grid = {'n_epochs': [10, 20], 'lr_all': [0.002, 0.005],\r\n",
        "              'reg_all': [0.2, 0.4], 'biased': [True, False]}\r\n",
        "gs = GridSearchCV(SVD, param_grid, measures=['RMSE', 'MAE', 'MSE'], cv=5)\r\n",
        "\r\n",
        "gs.fit(data_small)\r\n",
        "\r\n",
        "# Mejor puntuación RMSE\r\n",
        "print(\"Mejor puntuación RMSE: \",gs.best_score['rmse'])\r\n",
        "\r\n",
        "# Combinación de parámetros que dan la mejor puntuación RMSE\r\n",
        "print(\"Combinación de parámetros que devuelve la mejor puntuación RMSE: \", gs.best_params['rmse'], '\\n')\r\n",
        "\r\n",
        "# Mejor puntuación MAE\r\n",
        "print(\"Mejor puntuación MAE: \",gs.best_score['mae'])\r\n",
        "\r\n",
        "# Combinación de parámetros que dan la mejor puntuación MAE\r\n",
        "print(\"Combinación de parámetros que devuelve la mejor puntuación MAE: \",gs.best_params['mae'], '\\n')\r\n",
        "\r\n",
        "# Mejor puntuación MSE\r\n",
        "print(\"Mejor puntuación MSE: \",gs.best_score['mse'])\r\n",
        "\r\n",
        "# Combinación de parámetros que dan la mejor puntuación MSE\r\n",
        "print(\"Combinación de parámetros que devuelve la mejor puntuación MSE: \",gs.best_params['mse'])"
      ],
      "execution_count": 26,
      "outputs": [
        {
          "output_type": "stream",
          "text": [
            "Mejor puntuación RMSE:  4.376111529470476\n",
            "Combinación de parámetros que devuelve la mejor puntuación RMSE:  {'n_epochs': 10, 'lr_all': 0.005, 'reg_all': 0.2, 'biased': True} \n",
            "\n",
            "Mejor puntuación MAE:  3.4725471007258775\n",
            "Combinación de parámetros que devuelve la mejor puntuación MAE:  {'n_epochs': 10, 'lr_all': 0.005, 'reg_all': 0.2, 'biased': True} \n",
            "\n",
            "Mejor puntuación MSE:  19.162361712997196\n",
            "Combinación de parámetros que devuelve la mejor puntuación MSE:  {'n_epochs': 10, 'lr_all': 0.005, 'reg_all': 0.2, 'biased': True}\n"
          ],
          "name": "stdout"
        }
      ]
    },
    {
      "cell_type": "markdown",
      "metadata": {
        "id": "rMdpp4FwGG1e"
      },
      "source": [
        "Observando los resultados de la mejor puntuación de RMSE, MAE y MSE, tenemos unos valores que según la documentación deberían ser más precisos y además, estos tienen \"biased\" como verdadero. asi que los algoritmos SVD sesgados son mejores segun los resultados obtenidos"
      ]
    },
    {
      "cell_type": "markdown",
      "metadata": {
        "id": "LxjLyuhd8E9d"
      },
      "source": [
        "## **Ejercicio 3: Comparar algoritmos de agrupamiento con datos sintéticos**\n",
        "En esta sección, comparará dos de los algoritmos de agrupación en clúster más comunes que utilizan datos generados sintéticamente.\n",
        "\n"
      ]
    },
    {
      "cell_type": "markdown",
      "metadata": {
        "id": "WStGP4yB8Ii-"
      },
      "source": [
        "a) Utilice la función make_blobs de la biblioteca sklearn para generar 1500 observaciones bidimensionales distribuidas equitativamente en tres grupos centrados en las posiciones (0,0), (4,4) y (6,6). La descripción de la función se puede encontrar aquí:\n",
        "https://scikit-learn.org/stable/modules/generated/sklearn.datasets.make_blobs.html\n"
      ]
    },
    {
      "cell_type": "code",
      "metadata": {
        "id": "UeOcS8ZT8KPF",
        "colab": {
          "base_uri": "https://localhost:8080/"
        },
        "outputId": "295149ad-8ea9-4198-c5b6-ffeaac3fe905"
      },
      "source": [
        "from sklearn.datasets import make_blobs\r\n",
        "\r\n",
        "X, y = make_blobs(n_samples = 1500,  centers = [(0, 0), (4, 4), (6,6)], random_state=0)\r\n",
        "print(X.shape)"
      ],
      "execution_count": 27,
      "outputs": [
        {
          "output_type": "stream",
          "text": [
            "(1500, 2)\n"
          ],
          "name": "stdout"
        }
      ]
    },
    {
      "cell_type": "markdown",
      "metadata": {
        "id": "S7GZ6M8S8KYy"
      },
      "source": [
        "b) Agrupar los datos usando un algoritmo de k-medias con k = 3 y un método de agrupamiento jerárquico / aglomerativo con tres grupos. Represente gráficamente los resultados con diagramas de dispersión usando diferentes colores para cada uno de los grupos identificados por los dos métodos. Compare los resultados de la agrupación en clústeres. ¿Qué método es mejor cuando el verdadero centroide de los grupos se acerca?\n"
      ]
    },
    {
      "cell_type": "code",
      "metadata": {
        "id": "C-vhvEux8Lib",
        "colab": {
          "base_uri": "https://localhost:8080/",
          "height": 545
        },
        "outputId": "50c57db4-ee57-4310-a054-468ba5b102ed"
      },
      "source": [
        "from sklearn.cluster import KMeans, AgglomerativeClustering\r\n",
        "\r\n",
        "y_pred = KMeans(n_clusters=3).fit_predict(X)\r\n",
        "\r\n",
        "plt.scatter(X[:, 0], X[:, 1], s = 10, c = y_pred)\r\n",
        "plt.title(\"K-medias\")\r\n",
        "plt.show()\r\n",
        "\r\n",
        "y_pred = AgglomerativeClustering(n_clusters=3).fit_predict(X)\r\n",
        "\r\n",
        "plt.scatter(X[:, 0], X[:, 1], s = 10, c = y_pred)\r\n",
        "plt.title(\"Aglomerativo\")\r\n",
        "plt.show()"
      ],
      "execution_count": 28,
      "outputs": [
        {
          "output_type": "display_data",
          "data": {
            "image/png": "[encoded data removed]",
            "text/plain": [
              "<Figure size 432x288 with 1 Axes>"
            ]
          },
          "metadata": {
            "tags": [],
            "needs_background": "light"
          }
        },
        {
          "output_type": "display_data",
          "data": {
            "image/png": "[encoded data removed]",
            "text/plain": [
              "<Figure size 432x288 with 1 Axes>"
            ]
          },
          "metadata": {
            "tags": [],
            "needs_background": "light"
          }
        }
      ]
    },
    {
      "cell_type": "markdown",
      "metadata": {
        "id": "jLq5SCwZ-McH"
      },
      "source": [
        "Ambos algortimos reconocen del mismo modo el grupo centrado en la posición (0, 0) pero presentan variaciones en el (4, 4) y en el (6, 6). Podemos observar como en el aglomerativo hay menor uniformidad y toma espacio de posiciones que en el K-medias ocupa el (6, 6). Seguramente esto es debido a que k-medias, depende de la distancia de los puntos a los centroides sin tener en cuenta la densidad de los puntos de cada zona, mientras que el algoritmo aglomerativo, parte de una fragmentación completa de los datos y fusiona grupos progresivamente hasta que todos los datos están reunidos en un único grupo."
      ]
    },
    {
      "cell_type": "markdown",
      "metadata": {
        "id": "CTH9gqO-8Lqm"
      },
      "source": [
        "c) Repita las tareas de las dos secciones anteriores, pero ahora genere las observaciones con las siguientes varianzas desiguales: 1, 2.5 y 0.5 respectivamente. Comente los resultados."
      ]
    },
    {
      "cell_type": "code",
      "metadata": {
        "id": "LECZVnpe8MJM",
        "colab": {
          "base_uri": "https://localhost:8080/",
          "height": 545
        },
        "outputId": "8eaf101c-ae71-4abe-d6d2-e3a213109ebb"
      },
      "source": [
        "X, y = make_blobs(n_samples = 1500,  centers = [(0, 0), (4, 4), (6,6)], random_state=0, cluster_std=[1, 2.5, 0.5])\r\n",
        "\r\n",
        "y_pred = KMeans(n_clusters=3).fit_predict(X)\r\n",
        "plt.scatter(X[:, 0], X[:, 1], s = 10, c = y_pred)\r\n",
        "plt.title(\"K-medias\")\r\n",
        "plt.show()\r\n",
        "\r\n",
        "y_pred = AgglomerativeClustering(n_clusters=3).fit_predict(X)\r\n",
        "plt.scatter(X[:, 0], X[:, 1], s = 10, c = y_pred)\r\n",
        "plt.title(\"Aglomerativo\")\r\n",
        "plt.show()"
      ],
      "execution_count": 29,
      "outputs": [
        {
          "output_type": "display_data",
          "data": {
            "image/png": "[encoded data removed]",
            "text/plain": [
              "<Figure size 432x288 with 1 Axes>"
            ]
          },
          "metadata": {
            "tags": [],
            "needs_background": "light"
          }
        },
        {
          "output_type": "display_data",
          "data": {
            "image/png": "[encoded data removed]",
            "text/plain": [
              "<Figure size 432x288 with 1 Axes>"
            ]
          },
          "metadata": {
            "tags": [],
            "needs_background": "light"
          }
        }
      ]
    },
    {
      "cell_type": "markdown",
      "metadata": {
        "id": "OdLnjOtWFahS"
      },
      "source": [
        "En estos casos los resultados presentan un aspecto diferente en relación al apartado b) pero también la diferencia está mas clara entre ambos algoritmos donde la posición (4, 4) se difumina por completo en el aglomerativo y se convierte en una zona donde convergen todos. Esto sucede por el funcionamiento de ambos algoritmos, cuyas diferencias se acentuan al añadir las varianzas desiguales."
      ]
    }
  ]
}